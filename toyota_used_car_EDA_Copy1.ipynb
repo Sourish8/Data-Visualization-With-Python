{
  "cells": [
    {
      "cell_type": "markdown",
      "metadata": {
        "id": "view-in-github",
        "colab_type": "text"
      },
      "source": [
        "<a href=\"https://colab.research.google.com/github/Sourish8/Data-Visualization-With-Python/blob/main/toyota_used_car_EDA_Copy1.ipynb\" target=\"_parent\"><img src=\"https://colab.research.google.com/assets/colab-badge.svg\" alt=\"Open In Colab\"/></a>"
      ]
    },
    {
      "cell_type": "code",
      "execution_count": null,
      "metadata": {
        "id": "56Pqh_E9EUwH"
      },
      "outputs": [],
      "source": [
        "import numpy as np\n",
        "import pandas as pd\n",
        "\n",
        "import matplotlib.pyplot as plt\n",
        "import seaborn as sns"
      ]
    },
    {
      "cell_type": "markdown",
      "metadata": {
        "id": "cFPnIP2WEUwQ"
      },
      "source": [
        "**Read CSV file as Pandas Dataframe.**"
      ]
    },
    {
      "cell_type": "code",
      "execution_count": null,
      "metadata": {
        "id": "HW4eZeLxEUwT",
        "outputId": "ace68bf6-fcca-4df6-a018-44d29abc9862",
        "colab": {
          "base_uri": "https://localhost:8080/",
          "height": 391
        }
      },
      "outputs": [
        {
          "output_type": "error",
          "ename": "FileNotFoundError",
          "evalue": "ignored",
          "traceback": [
            "\u001b[0;31m---------------------------------------------------------------------------\u001b[0m",
            "\u001b[0;31mFileNotFoundError\u001b[0m                         Traceback (most recent call last)",
            "\u001b[0;32m<ipython-input-2-99e19628c0f2>\u001b[0m in \u001b[0;36m<module>\u001b[0;34m()\u001b[0m\n\u001b[0;32m----> 1\u001b[0;31m \u001b[0mdf\u001b[0m \u001b[0;34m=\u001b[0m \u001b[0mpd\u001b[0m\u001b[0;34m.\u001b[0m\u001b[0mread_csv\u001b[0m\u001b[0;34m(\u001b[0m\u001b[0;34m\"toyota.csv\"\u001b[0m\u001b[0;34m)\u001b[0m\u001b[0;34m\u001b[0m\u001b[0;34m\u001b[0m\u001b[0m\n\u001b[0m\u001b[1;32m      2\u001b[0m \u001b[0;34m\u001b[0m\u001b[0m\n\u001b[1;32m      3\u001b[0m \u001b[0mdisplay\u001b[0m\u001b[0;34m(\u001b[0m\u001b[0mdf\u001b[0m\u001b[0;34m.\u001b[0m\u001b[0mhead\u001b[0m\u001b[0;34m(\u001b[0m\u001b[0;34m)\u001b[0m\u001b[0;34m)\u001b[0m  \u001b[0;31m#head() will show the first 5 rows of the CSV file by default.\u001b[0m\u001b[0;34m\u001b[0m\u001b[0;34m\u001b[0m\u001b[0m\n\u001b[1;32m      4\u001b[0m \u001b[0mdisplay\u001b[0m\u001b[0;34m(\u001b[0m\u001b[0mdf\u001b[0m\u001b[0;34m.\u001b[0m\u001b[0mtail\u001b[0m\u001b[0;34m(\u001b[0m\u001b[0;34m)\u001b[0m\u001b[0;34m)\u001b[0m  \u001b[0;31m#tail() will show the first 5 rows of the CSV file by default.\u001b[0m\u001b[0;34m\u001b[0m\u001b[0;34m\u001b[0m\u001b[0m\n",
            "\u001b[0;32m/usr/local/lib/python3.7/dist-packages/pandas/util/_decorators.py\u001b[0m in \u001b[0;36mwrapper\u001b[0;34m(*args, **kwargs)\u001b[0m\n\u001b[1;32m    309\u001b[0m                     \u001b[0mstacklevel\u001b[0m\u001b[0;34m=\u001b[0m\u001b[0mstacklevel\u001b[0m\u001b[0;34m,\u001b[0m\u001b[0;34m\u001b[0m\u001b[0;34m\u001b[0m\u001b[0m\n\u001b[1;32m    310\u001b[0m                 )\n\u001b[0;32m--> 311\u001b[0;31m             \u001b[0;32mreturn\u001b[0m \u001b[0mfunc\u001b[0m\u001b[0;34m(\u001b[0m\u001b[0;34m*\u001b[0m\u001b[0margs\u001b[0m\u001b[0;34m,\u001b[0m \u001b[0;34m**\u001b[0m\u001b[0mkwargs\u001b[0m\u001b[0;34m)\u001b[0m\u001b[0;34m\u001b[0m\u001b[0;34m\u001b[0m\u001b[0m\n\u001b[0m\u001b[1;32m    312\u001b[0m \u001b[0;34m\u001b[0m\u001b[0m\n\u001b[1;32m    313\u001b[0m         \u001b[0;32mreturn\u001b[0m \u001b[0mwrapper\u001b[0m\u001b[0;34m\u001b[0m\u001b[0;34m\u001b[0m\u001b[0m\n",
            "\u001b[0;32m/usr/local/lib/python3.7/dist-packages/pandas/io/parsers/readers.py\u001b[0m in \u001b[0;36mread_csv\u001b[0;34m(filepath_or_buffer, sep, delimiter, header, names, index_col, usecols, squeeze, prefix, mangle_dupe_cols, dtype, engine, converters, true_values, false_values, skipinitialspace, skiprows, skipfooter, nrows, na_values, keep_default_na, na_filter, verbose, skip_blank_lines, parse_dates, infer_datetime_format, keep_date_col, date_parser, dayfirst, cache_dates, iterator, chunksize, compression, thousands, decimal, lineterminator, quotechar, quoting, doublequote, escapechar, comment, encoding, encoding_errors, dialect, error_bad_lines, warn_bad_lines, on_bad_lines, delim_whitespace, low_memory, memory_map, float_precision, storage_options)\u001b[0m\n\u001b[1;32m    584\u001b[0m     \u001b[0mkwds\u001b[0m\u001b[0;34m.\u001b[0m\u001b[0mupdate\u001b[0m\u001b[0;34m(\u001b[0m\u001b[0mkwds_defaults\u001b[0m\u001b[0;34m)\u001b[0m\u001b[0;34m\u001b[0m\u001b[0;34m\u001b[0m\u001b[0m\n\u001b[1;32m    585\u001b[0m \u001b[0;34m\u001b[0m\u001b[0m\n\u001b[0;32m--> 586\u001b[0;31m     \u001b[0;32mreturn\u001b[0m \u001b[0m_read\u001b[0m\u001b[0;34m(\u001b[0m\u001b[0mfilepath_or_buffer\u001b[0m\u001b[0;34m,\u001b[0m \u001b[0mkwds\u001b[0m\u001b[0;34m)\u001b[0m\u001b[0;34m\u001b[0m\u001b[0;34m\u001b[0m\u001b[0m\n\u001b[0m\u001b[1;32m    587\u001b[0m \u001b[0;34m\u001b[0m\u001b[0m\n\u001b[1;32m    588\u001b[0m \u001b[0;34m\u001b[0m\u001b[0m\n",
            "\u001b[0;32m/usr/local/lib/python3.7/dist-packages/pandas/io/parsers/readers.py\u001b[0m in \u001b[0;36m_read\u001b[0;34m(filepath_or_buffer, kwds)\u001b[0m\n\u001b[1;32m    480\u001b[0m \u001b[0;34m\u001b[0m\u001b[0m\n\u001b[1;32m    481\u001b[0m     \u001b[0;31m# Create the parser.\u001b[0m\u001b[0;34m\u001b[0m\u001b[0;34m\u001b[0m\u001b[0;34m\u001b[0m\u001b[0m\n\u001b[0;32m--> 482\u001b[0;31m     \u001b[0mparser\u001b[0m \u001b[0;34m=\u001b[0m \u001b[0mTextFileReader\u001b[0m\u001b[0;34m(\u001b[0m\u001b[0mfilepath_or_buffer\u001b[0m\u001b[0;34m,\u001b[0m \u001b[0;34m**\u001b[0m\u001b[0mkwds\u001b[0m\u001b[0;34m)\u001b[0m\u001b[0;34m\u001b[0m\u001b[0;34m\u001b[0m\u001b[0m\n\u001b[0m\u001b[1;32m    483\u001b[0m \u001b[0;34m\u001b[0m\u001b[0m\n\u001b[1;32m    484\u001b[0m     \u001b[0;32mif\u001b[0m \u001b[0mchunksize\u001b[0m \u001b[0;32mor\u001b[0m \u001b[0miterator\u001b[0m\u001b[0;34m:\u001b[0m\u001b[0;34m\u001b[0m\u001b[0;34m\u001b[0m\u001b[0m\n",
            "\u001b[0;32m/usr/local/lib/python3.7/dist-packages/pandas/io/parsers/readers.py\u001b[0m in \u001b[0;36m__init__\u001b[0;34m(self, f, engine, **kwds)\u001b[0m\n\u001b[1;32m    809\u001b[0m             \u001b[0mself\u001b[0m\u001b[0;34m.\u001b[0m\u001b[0moptions\u001b[0m\u001b[0;34m[\u001b[0m\u001b[0;34m\"has_index_names\"\u001b[0m\u001b[0;34m]\u001b[0m \u001b[0;34m=\u001b[0m \u001b[0mkwds\u001b[0m\u001b[0;34m[\u001b[0m\u001b[0;34m\"has_index_names\"\u001b[0m\u001b[0;34m]\u001b[0m\u001b[0;34m\u001b[0m\u001b[0;34m\u001b[0m\u001b[0m\n\u001b[1;32m    810\u001b[0m \u001b[0;34m\u001b[0m\u001b[0m\n\u001b[0;32m--> 811\u001b[0;31m         \u001b[0mself\u001b[0m\u001b[0;34m.\u001b[0m\u001b[0m_engine\u001b[0m \u001b[0;34m=\u001b[0m \u001b[0mself\u001b[0m\u001b[0;34m.\u001b[0m\u001b[0m_make_engine\u001b[0m\u001b[0;34m(\u001b[0m\u001b[0mself\u001b[0m\u001b[0;34m.\u001b[0m\u001b[0mengine\u001b[0m\u001b[0;34m)\u001b[0m\u001b[0;34m\u001b[0m\u001b[0;34m\u001b[0m\u001b[0m\n\u001b[0m\u001b[1;32m    812\u001b[0m \u001b[0;34m\u001b[0m\u001b[0m\n\u001b[1;32m    813\u001b[0m     \u001b[0;32mdef\u001b[0m \u001b[0mclose\u001b[0m\u001b[0;34m(\u001b[0m\u001b[0mself\u001b[0m\u001b[0;34m)\u001b[0m\u001b[0;34m:\u001b[0m\u001b[0;34m\u001b[0m\u001b[0;34m\u001b[0m\u001b[0m\n",
            "\u001b[0;32m/usr/local/lib/python3.7/dist-packages/pandas/io/parsers/readers.py\u001b[0m in \u001b[0;36m_make_engine\u001b[0;34m(self, engine)\u001b[0m\n\u001b[1;32m   1038\u001b[0m             )\n\u001b[1;32m   1039\u001b[0m         \u001b[0;31m# error: Too many arguments for \"ParserBase\"\u001b[0m\u001b[0;34m\u001b[0m\u001b[0;34m\u001b[0m\u001b[0;34m\u001b[0m\u001b[0m\n\u001b[0;32m-> 1040\u001b[0;31m         \u001b[0;32mreturn\u001b[0m \u001b[0mmapping\u001b[0m\u001b[0;34m[\u001b[0m\u001b[0mengine\u001b[0m\u001b[0;34m]\u001b[0m\u001b[0;34m(\u001b[0m\u001b[0mself\u001b[0m\u001b[0;34m.\u001b[0m\u001b[0mf\u001b[0m\u001b[0;34m,\u001b[0m \u001b[0;34m**\u001b[0m\u001b[0mself\u001b[0m\u001b[0;34m.\u001b[0m\u001b[0moptions\u001b[0m\u001b[0;34m)\u001b[0m  \u001b[0;31m# type: ignore[call-arg]\u001b[0m\u001b[0;34m\u001b[0m\u001b[0;34m\u001b[0m\u001b[0m\n\u001b[0m\u001b[1;32m   1041\u001b[0m \u001b[0;34m\u001b[0m\u001b[0m\n\u001b[1;32m   1042\u001b[0m     \u001b[0;32mdef\u001b[0m \u001b[0m_failover_to_python\u001b[0m\u001b[0;34m(\u001b[0m\u001b[0mself\u001b[0m\u001b[0;34m)\u001b[0m\u001b[0;34m:\u001b[0m\u001b[0;34m\u001b[0m\u001b[0;34m\u001b[0m\u001b[0m\n",
            "\u001b[0;32m/usr/local/lib/python3.7/dist-packages/pandas/io/parsers/c_parser_wrapper.py\u001b[0m in \u001b[0;36m__init__\u001b[0;34m(self, src, **kwds)\u001b[0m\n\u001b[1;32m     49\u001b[0m \u001b[0;34m\u001b[0m\u001b[0m\n\u001b[1;32m     50\u001b[0m         \u001b[0;31m# open handles\u001b[0m\u001b[0;34m\u001b[0m\u001b[0;34m\u001b[0m\u001b[0;34m\u001b[0m\u001b[0m\n\u001b[0;32m---> 51\u001b[0;31m         \u001b[0mself\u001b[0m\u001b[0;34m.\u001b[0m\u001b[0m_open_handles\u001b[0m\u001b[0;34m(\u001b[0m\u001b[0msrc\u001b[0m\u001b[0;34m,\u001b[0m \u001b[0mkwds\u001b[0m\u001b[0;34m)\u001b[0m\u001b[0;34m\u001b[0m\u001b[0;34m\u001b[0m\u001b[0m\n\u001b[0m\u001b[1;32m     52\u001b[0m         \u001b[0;32massert\u001b[0m \u001b[0mself\u001b[0m\u001b[0;34m.\u001b[0m\u001b[0mhandles\u001b[0m \u001b[0;32mis\u001b[0m \u001b[0;32mnot\u001b[0m \u001b[0;32mNone\u001b[0m\u001b[0;34m\u001b[0m\u001b[0;34m\u001b[0m\u001b[0m\n\u001b[1;32m     53\u001b[0m \u001b[0;34m\u001b[0m\u001b[0m\n",
            "\u001b[0;32m/usr/local/lib/python3.7/dist-packages/pandas/io/parsers/base_parser.py\u001b[0m in \u001b[0;36m_open_handles\u001b[0;34m(self, src, kwds)\u001b[0m\n\u001b[1;32m    227\u001b[0m             \u001b[0mmemory_map\u001b[0m\u001b[0;34m=\u001b[0m\u001b[0mkwds\u001b[0m\u001b[0;34m.\u001b[0m\u001b[0mget\u001b[0m\u001b[0;34m(\u001b[0m\u001b[0;34m\"memory_map\"\u001b[0m\u001b[0;34m,\u001b[0m \u001b[0;32mFalse\u001b[0m\u001b[0;34m)\u001b[0m\u001b[0;34m,\u001b[0m\u001b[0;34m\u001b[0m\u001b[0;34m\u001b[0m\u001b[0m\n\u001b[1;32m    228\u001b[0m             \u001b[0mstorage_options\u001b[0m\u001b[0;34m=\u001b[0m\u001b[0mkwds\u001b[0m\u001b[0;34m.\u001b[0m\u001b[0mget\u001b[0m\u001b[0;34m(\u001b[0m\u001b[0;34m\"storage_options\"\u001b[0m\u001b[0;34m,\u001b[0m \u001b[0;32mNone\u001b[0m\u001b[0;34m)\u001b[0m\u001b[0;34m,\u001b[0m\u001b[0;34m\u001b[0m\u001b[0;34m\u001b[0m\u001b[0m\n\u001b[0;32m--> 229\u001b[0;31m             \u001b[0merrors\u001b[0m\u001b[0;34m=\u001b[0m\u001b[0mkwds\u001b[0m\u001b[0;34m.\u001b[0m\u001b[0mget\u001b[0m\u001b[0;34m(\u001b[0m\u001b[0;34m\"encoding_errors\"\u001b[0m\u001b[0;34m,\u001b[0m \u001b[0;34m\"strict\"\u001b[0m\u001b[0;34m)\u001b[0m\u001b[0;34m,\u001b[0m\u001b[0;34m\u001b[0m\u001b[0;34m\u001b[0m\u001b[0m\n\u001b[0m\u001b[1;32m    230\u001b[0m         )\n\u001b[1;32m    231\u001b[0m \u001b[0;34m\u001b[0m\u001b[0m\n",
            "\u001b[0;32m/usr/local/lib/python3.7/dist-packages/pandas/io/common.py\u001b[0m in \u001b[0;36mget_handle\u001b[0;34m(path_or_buf, mode, encoding, compression, memory_map, is_text, errors, storage_options)\u001b[0m\n\u001b[1;32m    705\u001b[0m                 \u001b[0mencoding\u001b[0m\u001b[0;34m=\u001b[0m\u001b[0mioargs\u001b[0m\u001b[0;34m.\u001b[0m\u001b[0mencoding\u001b[0m\u001b[0;34m,\u001b[0m\u001b[0;34m\u001b[0m\u001b[0;34m\u001b[0m\u001b[0m\n\u001b[1;32m    706\u001b[0m                 \u001b[0merrors\u001b[0m\u001b[0;34m=\u001b[0m\u001b[0merrors\u001b[0m\u001b[0;34m,\u001b[0m\u001b[0;34m\u001b[0m\u001b[0;34m\u001b[0m\u001b[0m\n\u001b[0;32m--> 707\u001b[0;31m                 \u001b[0mnewline\u001b[0m\u001b[0;34m=\u001b[0m\u001b[0;34m\"\"\u001b[0m\u001b[0;34m,\u001b[0m\u001b[0;34m\u001b[0m\u001b[0;34m\u001b[0m\u001b[0m\n\u001b[0m\u001b[1;32m    708\u001b[0m             )\n\u001b[1;32m    709\u001b[0m         \u001b[0;32melse\u001b[0m\u001b[0;34m:\u001b[0m\u001b[0;34m\u001b[0m\u001b[0;34m\u001b[0m\u001b[0m\n",
            "\u001b[0;31mFileNotFoundError\u001b[0m: [Errno 2] No such file or directory: 'toyota.csv'"
          ]
        }
      ],
      "source": [
        "df = pd.read_csv(\"toyota.csv\")\n",
        "\n",
        "display(df.head())  #head() will show the first 5 rows of the CSV file by default.\n",
        "display(df.tail())  #tail() will show the first 5 rows of the CSV file by default."
      ]
    },
    {
      "cell_type": "markdown",
      "metadata": {
        "id": "vrN4fs2zEUwV"
      },
      "source": [
        "**Full information of the dataframe.\"**"
      ]
    },
    {
      "cell_type": "code",
      "execution_count": null,
      "metadata": {
        "id": "31dhnOoREUwW"
      },
      "outputs": [],
      "source": [
        "df.info() "
      ]
    },
    {
      "cell_type": "markdown",
      "metadata": {
        "id": "4x_NR6w1EUwX"
      },
      "source": [
        "**Count the unique values of the \"transmission\" Column** "
      ]
    },
    {
      "cell_type": "code",
      "execution_count": null,
      "metadata": {
        "id": "ScG_Yx3sEUwY"
      },
      "outputs": [],
      "source": [
        "print(df[\"transmission\"].unique()) \n",
        "print(df[\"transmission\"].value_counts())  "
      ]
    },
    {
      "cell_type": "markdown",
      "metadata": {
        "id": "E-5ycdMxEUwa"
      },
      "source": [
        "**Pie Chart for the \"tranmission\" Plot.**"
      ]
    },
    {
      "cell_type": "code",
      "execution_count": null,
      "metadata": {
        "id": "SJ4MmvUqEUwb"
      },
      "outputs": [],
      "source": [
        "df[\"transmission\"].value_counts().plot(kind=\"pie\",\n",
        "                                autopct= \"%1.0f%%\")    #for creatinf pie chart.\n",
        "plt.ylabel(\"\")  #It is used for remove the label of the y-axis.\n",
        "plt.show()     # it will show the figure only."
      ]
    },
    {
      "cell_type": "code",
      "execution_count": null,
      "metadata": {
        "id": "oCijWqOKEUwc"
      },
      "outputs": [],
      "source": [
        "print(df[\"transmission\"].value_counts())\n",
        "\n",
        "print(type(df[\"transmission\"].value_counts()))\n",
        "\n",
        "df_transmission  = pd.DataFrame(df[\"transmission\"].value_counts()) #This command [\"pd.DataFrame\"] converts a seris to DataFrame.\n",
        "\n",
        "display(df_transmission.head())  #head() will show the first 5 rows of the CSV file by default. \n",
        "\n",
        "print(df_transmission.index)     #express the index of the dataframe.\n",
        "\n",
        "print(df_transmission.columns)   #express the column of the dataframe."
      ]
    },
    {
      "cell_type": "code",
      "execution_count": null,
      "metadata": {
        "scrolled": true,
        "id": "QNCbBUM0EUwe"
      },
      "outputs": [],
      "source": [
        "df_transmission = pd.DataFrame(df[\"transmission\"].value_counts())\n",
        "\n",
        "df_transmission = df_transmission.reset_index()        # This command (\"reset_index()\") is used to reset the index of the dataframe.\n",
        "\n",
        "df_transmission = df_transmission.rename(columns= {\"index\":\"Transmission\",\n",
        "                                                    \"transmission\":\"Num of Cars\"})  # The command is used to rename the column name.\n",
        "\n",
        "display(df_transmission)\n"
      ]
    },
    {
      "cell_type": "markdown",
      "metadata": {
        "id": "Y6u2FY18EUwf"
      },
      "source": [
        "**Barplot for the \"tranmission\" column.**"
      ]
    },
    {
      "cell_type": "code",
      "execution_count": null,
      "metadata": {
        "id": "_nJ0HvrGEUwg"
      },
      "outputs": [],
      "source": [
        "sns.barplot(x=\"Transmission\", \n",
        "            y=\"Num of Cars\",\n",
        "            data = df_transmission) \n",
        "plt.show()"
      ]
    },
    {
      "cell_type": "markdown",
      "metadata": {
        "id": "Qt2DAdYSEUwh"
      },
      "source": [
        "**Which is Better between Barplot and Pi Chart and why?**\n",
        "\n",
        "**Answer:** Between barplot and pie chart, a bar plot is better than a pie chart.In barplot we can clearly understand what kind of information the plot carries. There are no values in the x label that overlap with another value. But from the pie chart, we see that the information is not easily understandable. The portion of \"other\" and \"semi-auto\" overlap with each other, so we can say that a barplot is better than a pie chart, which is very clear for getting information."
      ]
    },
    {
      "cell_type": "markdown",
      "metadata": {
        "id": "6rTz7hhHEUwi"
      },
      "source": [
        "**Scatter Plot, Regression Plot, Pair Plot**"
      ]
    },
    {
      "cell_type": "code",
      "execution_count": null,
      "metadata": {
        "id": "7g4gISLAEUwj"
      },
      "outputs": [],
      "source": [
        "df = pd.read_csv(\"toyota.csv\")\n",
        "\n",
        "display(df.head())  #head() will show the first 5 rows of the CSV file by default.\n"
      ]
    },
    {
      "cell_type": "code",
      "execution_count": null,
      "metadata": {
        "id": "br_29Jh6EUwk"
      },
      "outputs": [],
      "source": [
        "plt.figure(figsize= (10,6))\n",
        "\n",
        "sns.scatterplot(x= \"year\", y= \"price\" , data =df)\n",
        "\n",
        "plt.title(\"Figure 01: Year Vs Price\", fontsize=15)   #this command is used for giving a title to the figure\n",
        "\n",
        "plt.xlabel('Year',fontsize=18)    #used for rename & resize the variable of x-axis\n",
        "\n",
        "plt.ylabel('Price',fontsize=18)  #used for rename & resize the variable of y-axis.\n",
        "\n",
        "plt.show()\n"
      ]
    },
    {
      "cell_type": "markdown",
      "metadata": {
        "id": "MoQLqc-REUwl"
      },
      "source": [
        "In figure 1, this is a scatter plot of year vs price.In this plot, the price of cars doesn't have any direct relationship with the year.So there is no correlation between the x-axis and y-axis."
      ]
    },
    {
      "cell_type": "code",
      "execution_count": null,
      "metadata": {
        "id": "HpR4b-rXEUwm"
      },
      "outputs": [],
      "source": [
        "plt.figure(figsize=(10,6))\n",
        "sns.scatterplot(x = \"mileage\" , y= \"price\" , data = df)\n",
        "\n",
        "plt.title(\"Figure 02: Milage Vs Price\", fontsize=18)    \n",
        "\n",
        "plt.xlabel('Mileage', fontsize=20)  \n",
        "plt.ylabel('Price', fontsize=20)    \n",
        "plt.show()"
      ]
    },
    {
      "cell_type": "markdown",
      "metadata": {
        "id": "KIY2MU_-EUwm"
      },
      "source": [
        "In figure 2, this is a scatter plot of Mileage vs Price. Scatter plots shows the correlation between the x-axis and y-axis. In this plot Mileage and Price shows a negative correlation because the value of the y-axis is reduced with the increase of the x-axis."
      ]
    },
    {
      "cell_type": "code",
      "execution_count": null,
      "metadata": {
        "id": "L-TKwyYvEUwn"
      },
      "outputs": [],
      "source": [
        "plt.figure(figsize= (15,18))\n",
        "\n",
        "plt.subplot(3,1,1)\n",
        "sns.scatterplot(x = \"mileage\", y=\"price\", data = df , hue = \"transmission\")  # \"hue\" has been used to see the relationship between price and mileage and transmission\n",
        "plt.xlabel(\"Mileage\", fontsize = 20)\n",
        "plt.ylabel(\"Price\", fontsize = 20)\n",
        "\n",
        "\n",
        "plt.subplot(3,1,2)\n",
        "sns.scatterplot(x = \"mpg\", y=\"price\", data = df, hue = \"transmission\")\n",
        "plt.xlabel(\"Mpg\", fontsize = 20)\n",
        "plt.ylabel(\"Price\", fontsize = 20)\n",
        "\n",
        "plt.subplot(3,1,3)\n",
        "sns.scatterplot(x= \"engineSize\", y=\"price\", data =df, hue = \"transmission\") \n",
        "\n",
        "plt.xlabel(\"EngineSize\", fontsize = 20)  # used for rename & resize the variable of x-axis.\n",
        "plt.ylabel(\"Price\", fontsize = 20)      # used for rename & resize the variable of y-axis.\n",
        "\n",
        "\n",
        "plt.tight_layout(8)  # Padding between the figure edge and the edges of subplots.used to create a gap between two subplots to understand the labeling properly.\n",
        "\n",
        "plt.show()"
      ]
    },
    {
      "cell_type": "markdown",
      "metadata": {
        "id": "nBpEVCyUEUwo"
      },
      "source": [
        "The upper plot is known as a subplot as there are more than one plot in this plot.In this subplot postion 1 shows the plot of mileage vs price.here, The cars that run manually have lower prices and the price of the car that runs automatically is in the medium range. Cars with semi-auto transmission have the highest price. This plot shows a negative correlation as the price is reduced with the increase of mileage.But In positions 2 and 3,From the plots of these two positions, it is not possible to determine whether there is any relation between engineSize and MPG with the price.So, there is no correlation."
      ]
    },
    {
      "cell_type": "code",
      "execution_count": null,
      "metadata": {
        "scrolled": true,
        "id": "yTy-Fq4kEUwp"
      },
      "outputs": [],
      "source": [
        "plt.figure(figsize=(15,5))\n",
        "\n",
        "sns.regplot(x = \"mpg\", y =\"price\" , data=df)\n",
        "\n",
        "plt.show()\n"
      ]
    },
    {
      "cell_type": "markdown",
      "metadata": {
        "id": "EmNA8lozEUwq"
      },
      "source": [
        "It is a regression plot.The straight line represented the trend line of this plot.This straight line indicates a correlation between the x and y axes.It is not possible to determine whether there is any relationship between the X and Y axes in this figure."
      ]
    },
    {
      "cell_type": "code",
      "execution_count": null,
      "metadata": {
        "id": "Nkb_wMmnEUwq"
      },
      "outputs": [],
      "source": [
        "plt.figure(figsize= (10,20))\n",
        "\n",
        "plt.subplot(3,1,1)\n",
        "sns.regplot(x = \"mileage\", y=\"price\", data = df)  # \"hue\" has been used to see the relationship between price and mileage and transmission\n",
        "plt.xlabel(\"Mileage\", fontsize = 20)\n",
        "plt.ylabel(\"Price\", fontsize = 20)\n",
        "\n",
        "\n",
        "plt.subplot(3,1,2)\n",
        "sns.regplot(x = \"mileage\", y=\"price\", data = df, line_kws = {\"color\":\"black\"}) #\"line_kws\" is used to change color of slope.\n",
        "plt.xlabel(\"Mileage\", fontsize = 20)\n",
        "plt.ylabel(\"Price\", fontsize = 20)\n",
        "\n",
        "\n",
        "plt.subplot(3,1,3)\n",
        "sns.regplot(x = \"mileage\", y=\"price\", data = df, scatter_kws= {\"color\":\"green\" , \"edgecolor\":\"white\"}, line_kws = {\"color\":\"black\"}) # \"scatter_kws\" used for change any characteristic of the scatter plot\n",
        "\n",
        "plt.xlabel(\"Mileage\", fontsize = 20)\n",
        "plt.ylabel(\"Price\", fontsize = 20)  # used for rename & resize the variable of y-axis.\n",
        "\n",
        "plt.show()"
      ]
    },
    {
      "cell_type": "markdown",
      "metadata": {
        "id": "nOYHn7iwEUwr"
      },
      "source": [
        "The figure above shows the trend line between \"price\" vs. \"mileage\". This trend line shows that there is a correlation between price and mileage. As the value of the Y axis decreases with increasing the value of the X axis in this plot, the slope of this straight line is along the negative X axis. So there is a negative co-relation between price and mileage. In the 1st and 2nd position of this subplot there is no differenciation between the points of SCATTER plot. So for better understanding the color of the edges of the dots has been changed using \"scatter_kws\"."
      ]
    },
    {
      "cell_type": "code",
      "execution_count": null,
      "metadata": {
        "id": "1XfbLWkZEUwr"
      },
      "outputs": [],
      "source": [
        "sns.pairplot(df)\n",
        "plt.show()"
      ]
    },
    {
      "cell_type": "markdown",
      "metadata": {
        "id": "XwRUieAiEUws"
      },
      "source": [
        "In pairplot, the number of rows and columns are same as the number of numeric variables in Dataset.Since this Dataset has 5 numerical variables, there are 5 rows and columns in this pairplot.Here every two numeric variables will be related to each other.It is seen from the pairplot that there is a negative correlation of mileage with the price."
      ]
    },
    {
      "cell_type": "code",
      "execution_count": null,
      "metadata": {
        "id": "oNVN8Fb3EUws"
      },
      "outputs": [],
      "source": [
        ""
      ]
    }
  ],
  "metadata": {
    "kernelspec": {
      "display_name": "Python 3",
      "language": "python",
      "name": "python3"
    },
    "language_info": {
      "codemirror_mode": {
        "name": "ipython",
        "version": 3
      },
      "file_extension": ".py",
      "mimetype": "text/x-python",
      "name": "python",
      "nbconvert_exporter": "python",
      "pygments_lexer": "ipython3",
      "version": "3.7.4"
    },
    "colab": {
      "name": "toyota_used_car_EDA-Copy1.ipynb",
      "provenance": [],
      "include_colab_link": true
    }
  },
  "nbformat": 4,
  "nbformat_minor": 0
}